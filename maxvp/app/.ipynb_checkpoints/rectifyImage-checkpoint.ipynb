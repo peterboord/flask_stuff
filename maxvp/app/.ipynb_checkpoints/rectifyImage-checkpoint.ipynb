{
 "cells": [
  {
   "cell_type": "code",
   "execution_count": null,
   "metadata": {
    "collapsed": true
   },
   "outputs": [],
   "source": [
    "# from __future__ import division"
   ]
  },
  {
   "cell_type": "code",
   "execution_count": 1,
   "metadata": {
    "collapsed": true
   },
   "outputs": [],
   "source": [
    "%matplotlib qt5"
   ]
  },
  {
   "cell_type": "code",
   "execution_count": 5,
   "metadata": {
    "collapsed": false
   },
   "outputs": [
    {
     "name": "stdout",
     "output_type": "stream",
     "text": [
      "Warning: Cannot change to a different GUI toolkit: notebook. Using qt5 instead.\n"
     ]
    },
    {
     "data": {
      "text/plain": [
       "(1000, 1000)"
      ]
     },
     "execution_count": 5,
     "metadata": {},
     "output_type": "execute_result"
    }
   ],
   "source": [
    "# static inline plots:\n",
    "%matplotlib inline\n",
    "# interactive 3D plots:\n",
    "#%matplotlib notebook\n",
    "from matplotlib import pyplot as plt\n",
    "import numpy as np\n",
    "import cv2\n",
    "import pylab\n",
    "import math\n",
    "import matplotlib.pyplot as plt\n",
    "from mpl_toolkits.mplot3d import Axes3D\n",
    "from skimage.io import imread, imsave\n",
    "from skimage import transform as tf\n",
    "from sklearn import mixture\n",
    "from sklearn import linear_model\n",
    "pathname = '/home/pboord/flask/maxvp/app/static'\n",
    "#img = cv2.imread(pathname+'/No.274, Section 2, Bade Road, Taipei, Taiwan.jpg')\n",
    "img = cv2.imread(pathname+'/yelpHongKong4.jpg')\n",
    "#img = cv2.imread(pathname+'/128-134 Camp Street.jpg')\n",
    "#img = cv2.imread(pathname+'/121KweilinStreet.jpg')\n",
    "#img = cv2.imread(pathname+'/21 Gough Street.jpg')\n",
    "#img = cv2.imread(pathname+'/30 Pak Tin Street.jpg')\n",
    "#img = cv2.imread(pathname+'/52-56 Pei Ho Street.jpg')\n",
    "#img = cv2.imread(pathname+'/105 Argyle Street.jpg')\n",
    "#img = cv2.imread(pathname+'/118-120 Fuk Wa Street.jpg')\n",
    "#img = cv2.imread(pathname+'/140 Tai Po Road.jpg')\n",
    "#img = cv2.imread(pathname+'/Address: 2F, No. 128 Songjiang Road, Zhongshan District, Taipei 104, Taiwan.jpg')\n",
    "#img = cv2.imread(pathname+'/Lai Chi Kok Road.jpg')\n",
    "#img = cv2.imread(pathname+'/No.50 Section 1, Nanchang Road, Zhongzheng District, Taipei, Taiwan.jpg')\n",
    "#img = cv2.imread(pathname+'/No.274, Section 2, Bade Road, Taipei, Taiwan.jpg')\n",
    "#img = cv2.imread(pathname+'/yelpHongKong4.jpg')\n",
    "gray = cv2.cvtColor(img, cv2.COLOR_BGR2GRAY)\n",
    "H, W = img.shape[:2]\n",
    "def imshow(im):\n",
    "    cv2.imshow('image', color_dst)\n",
    "    cv2.waitKey(0) \n",
    "    cv2.destroyAllWindows()\n",
    "def add_lines_to_image(im, lines):\n",
    "    for i in range(0,lines.shape[0]):\n",
    "        cv2.line(im,(lines[i][0],lines[i][1]), (lines[i][2],lines[i][3]),(0,0,255),3,8 )\n",
    "    return im\n",
    "def line_scatter(lines, **kwargs):\n",
    "    if len(a) == 0:\n",
    "        # slope displayed in 2D\n",
    "        m2d = np.absolute(np.column_stack((lines[:,2] - lines[:,0], lines[:,3] - lines[:,1])))\n",
    "        fig, ax = plt.subplots()\n",
    "        ax.scatter(m2d[:,0],m2d[:,1])\n",
    "    else:\n",
    "        fig.suptitle(kwargs['title'], fontsize=20, y = 1.08)\n",
    "        ax.set_xlabel(kwargs['xlabel'], fontsize=20)\n",
    "        ax.set_ylabel(kwargs['ylabel'], fontsize=20)\n",
    "def im_to_canny(im):\n",
    "    # Canny\n",
    "    # http://docs.opencv.org/2.4/doc/tutorials/imgproc/imgtrans/canny_detector/canny_detector.html\n",
    "    thrs1 = 50\n",
    "    thrs2 = 200\n",
    "    canny = cv2.Canny(im, thrs1, thrs2, apertureSize=3)\n",
    "    return canny\n",
    "def canny_to_lines(canny):\n",
    "    #cv2.imshow('Canny', canny)\n",
    "    #cv2.imwrite(pathname+'/Canny.jpg',canny)\n",
    "    # http://docs.opencv.org/2.4/modules/imgproc/doc/feature_detection.html#houghlinesp\n",
    "    lines = cv2.HoughLinesP(canny,1, np.pi/180, 80, 30, 10)[:,0,:]\n",
    "    return lines\n",
    "def line_to_angle(lines):\n",
    "    # lines: (N, 4) ndarray of N x 4-element vector  (x_1, y_1, x_2, y_2) , where  (x_1,y_1) and  (x_2, y_2) are the ending points of each line\n",
    "    #angles = np.arctan2(lines[:,3] - lines[:,1], lines[:,2] - lines[:,0]) * 180 / np.pi\n",
    "    angles = np.arctan(np.true_divide(lines[:,3] - lines[:,1], lines[:,2] - lines[:,0]))\n",
    "    return angles\n",
    "def angle_to_gmm(angles):\n",
    "    gmm = mixture.GaussianMixture(n_components=2, covariance_type='spherical').fit(np.absolute(m))\n",
    "    classMost = gmm.predict(np.absolute(m))==0\n",
    "def angle_to_gmm3(angles):\n",
    "    cos_sin_angle = np.c_[np.cos(2 * angles),np.sin(2 * angles)]\n",
    "    #gmm = mixture.GaussianMixture(n_components=3, covariance_type='spherical').fit(cos_sin_angle)\n",
    "    gmm = mixture.GaussianMixture(n_components=3, covariance_type='diag').fit(cos_sin_angle)\n",
    "    class_predict = gmm.predict(cos_sin_angle)\n",
    "    return class_predict\n",
    "def principal_edges(angles, class_predict):\n",
    "    nr_class = np.max(class_predict) + 1\n",
    "    class_angles = np.zeros((nr_class,))\n",
    "    for c in range(0,nr_class):\n",
    "        class_c_angles = angles[class_predict==c]\n",
    "        class_c_mean_angle = np.angle(np.sum(np.exp(1j*class_c_angles)))\n",
    "        class_angles[c] = class_c_mean_angle\n",
    "    print np.argmin(np.abs(class_angles))\n",
    "    # select class closest to vanishing point horizon\n",
    "    principal_class = class_predict == np.argmin(np.abs(class_angles))\n",
    "    return principal_class\n",
    "def robust_regressor(height, angles, principal_class):\n",
    "    principal_indices = np.nonzero(principal_class)\n",
    "    height = height[principal_class]\n",
    "    angles = angles[principal_class]\n",
    "    # Robustly fit linear model with RANSAC algorithm\n",
    "    model_ransac = linear_model.RANSACRegressor(linear_model.LinearRegression())\n",
    "    model_ransac.fit(np.c_[height,np.ones((height.shape[0],))], angles)\n",
    "    inlier_mask = model_ransac.inlier_mask_\n",
    "    principal_class.flat[np.nonzero(principal_class)] = inlier_mask\n",
    "    return principal_class\n",
    "H, W"
   ]
  },
  {
   "cell_type": "code",
   "execution_count": 11,
   "metadata": {
    "collapsed": false
   },
   "outputs": [
    {
     "name": "stderr",
     "output_type": "stream",
     "text": [
      "/home/pboord/anaconda2/lib/python2.7/site-packages/ipykernel/__main__.py:66: RuntimeWarning: divide by zero encountered in true_divide\n"
     ]
    },
    {
     "name": "stdout",
     "output_type": "stream",
     "text": [
      "0\n"
     ]
    }
   ],
   "source": [
    "canny = im_to_canny(gray)\n",
    "lines = canny_to_lines(canny)\n",
    "angles = line_to_angle(lines)\n",
    "class_predict = angle_to_gmm3(angles)\n",
    "principal_class = principal_edges(angles, class_predict)\n",
    "lines_x = lines[:,[0,2]]\n",
    "lines_y = lines[:,[1,3]]\n",
    "height = np.average(lines_y,axis=1)\n",
    "principal_inlier_class = robust_regressor(height, angles, principal_class)\n",
    "fig, ax = plt.subplots(nrows=1, ncols = 4, figsize=(16, 8))\n",
    "ax[0].hist(angles * 180 / np.pi, bins=np.linspace(-180,180,40))\n",
    "ax[0].set_xlim(left = -100, right = 100)\n",
    "ax[1].scatter(angles[class_predict==0] * 180 / np.pi,np.average(lines_y[class_predict==0,:],axis=1),c='b')\n",
    "ax[1].scatter(angles[class_predict==1] * 180 / np.pi,np.average(lines_y[class_predict==1,:],axis=1),c='r')\n",
    "ax[1].scatter(angles[class_predict==2] * 180 / np.pi,np.average(lines_y[class_predict==2,:],axis=1),c='g')\n",
    "ax[1].scatter(angles[principal_inlier_class] * 180 / np.pi,np.average(lines_y[principal_inlier_class,:],axis=1),c='gold')\n",
    "ax[1].set_ylim(bottom = H, top = 0)\n",
    "ax[1].set_xlim(left = -100, right = 100)\n",
    "ax[2].scatter(np.average(lines_x[class_predict==0,:],axis=1),angles[class_predict==0] * 180 / np.pi,c='b')\n",
    "ax[2].scatter(np.average(lines_x[class_predict==1,:],axis=1),angles[class_predict==1] * 180 / np.pi,c='r')\n",
    "ax[2].scatter(np.average(lines_x[class_predict==2,:],axis=1),angles[class_predict==2] * 180 / np.pi,c='g')\n",
    "ax[2].scatter(np.average(lines_x[principal_inlier_class,:],axis=1),angles[principal_inlier_class] * 180 / np.pi,c='gold')\n",
    "ax[2].set_ylim(bottom = -100, top = 100)\n",
    "ax[2].set_xlim(left = 0, right = W)\n",
    "ax[3].scatter(np.cos(2 * angles[class_predict==0]),np.sin(2 * angles[class_predict==0]),c='b')\n",
    "ax[3].scatter(np.cos(2 * angles[class_predict==1]),np.sin(2 * angles[class_predict==1]),c='r')\n",
    "ax[3].scatter(np.cos(2 * angles[class_predict==2]),np.sin(2 * angles[class_predict==2]),c='g')\n",
    "ax[3].scatter(np.cos(2 * angles[principal_inlier_class]),np.sin(2 * angles[principal_inlier_class]),c='gold')\n",
    "ax[3].set_xlim(left = -1.1, right = 1.1)\n",
    "ax[3].set_ylim(bottom = -1.1, top = 1.1)\n",
    "plt.show()"
   ]
  },
  {
   "cell_type": "code",
   "execution_count": 10,
   "metadata": {
    "collapsed": false
   },
   "outputs": [],
   "source": [
    "fig = plt.figure()\n",
    "ax = fig.add_subplot(111, projection='3d')\n",
    "ax.scatter(np.average(lines_x[principal_inlier_class,:],axis=1), np.average(lines_y[principal_inlier_class,:],axis=1), angles[principal_inlier_class] * 180 / np.pi, zdir='z', c='r', marker='o')\n",
    "ax.set_xlabel('X Label')\n",
    "ax.set_ylabel('Y Label')\n",
    "ax.set_zlabel('Z Label')\n",
    "plt.show()"
   ]
  },
  {
   "cell_type": "code",
   "execution_count": 8,
   "metadata": {
    "collapsed": false
   },
   "outputs": [],
   "source": [
    "# with Vert\n",
    "color_dst = cv2.cvtColor(canny,cv2.COLOR_GRAY2BGR)\n",
    "color_dst = add_lines_to_image(color_dst, lines)\n",
    "fig, figAx = plt.subplots(nrows=1, ncols = 2, figsize=(16, 8))\n",
    "figAx[0].imshow(img)\n",
    "figAx[1].imshow(color_dst)\n",
    "for ax in figAx:\n",
    "    ax.axis('off')"
   ]
  },
  {
   "cell_type": "code",
   "execution_count": 132,
   "metadata": {
    "collapsed": false
   },
   "outputs": [],
   "source": [
    "cv2.imshow('withVert', color_dst)\n",
    "cv2.imwrite(pathname+'/withVert.jpg',color_dst)\n",
    "# without Vert\n",
    "# delete vertical lines (avoids divide by zero)\n",
    "lines = lines[lines[:,0] != lines[:,2],:]\n",
    "m = np.true_divide(lines[:,3] - lines[:,1],lines[:,2] - lines[:,0])\n",
    "# # delete line with max abs slope > 2 (45 degrees)\n",
    "# lines = lines[np.absolute(m) < 2,:]\n",
    "# m = m[np.absolute(m) < 2]\n",
    "# # keep lines only from largest subset\n",
    "# m = m[:,np.newaxis]\n",
    "# from sklearn import mixture\n",
    "# gmm = mixture.GaussianMixture(n_components=2, covariance_type='spherical').fit(np.absolute(m))\n",
    "# classMost = gmm.predict(np.absolute(m))==0\n",
    "# if np.sum(classMost) < m.shape[0]/2:\n",
    "#     classMost = np.logical_not(classMost)\n",
    "# lines = lines[classMost,:]\n",
    "# m = m[classMost]\n",
    "# m = m[:,0]\n",
    "\n",
    "color_dst = cv2.cvtColor(canny,cv2.COLOR_GRAY2BGR)\n",
    "for i in range(0,lines.shape[0]):\n",
    "    cv2.line(color_dst,(lines[i][0],lines[i][1]), (lines[i][2],lines[i][3]),(0,0,255),3,8 )\n",
    "cv2.imshow('withoutVert', color_dst)\n",
    "cv2.imwrite(pathname+'/withoutVert.jpg',color_dst)\n",
    "cv2.waitKey(0) \n",
    "cv2.destroyAllWindows()"
   ]
  },
  {
   "cell_type": "code",
   "execution_count": 121,
   "metadata": {
    "collapsed": false
   },
   "outputs": [
    {
     "data": {
      "text/plain": [
       "(197.0607883156375,\n",
       " 986.46867844432143,\n",
       " 550.80640352935927,\n",
       " -3125.5770421579573)"
      ]
     },
     "execution_count": 121,
     "metadata": {},
     "output_type": "execute_result"
    }
   ],
   "source": [
    "# delete horizontal lines (they don't have info to estimate vp & avoids div by zero)\n",
    "lines = lines[m != 0,:]\n",
    "m = m[m != 0]\n",
    "import numpy.matlib\n",
    "A = np.column_stack( ( np.ones((m.shape[0],)), -m ) )\n",
    "B = lines[:,1] - m*lines[:,0]\n",
    "# # reduce LSE sensitivity to large slopes\n",
    "# # weighted least squares(?)\n",
    "# A=np.true_divide(A, np.matlib.repmat(np.absolute(m)[:,np.newaxis],1,2))\n",
    "# B=np.true_divide(B, np.absolute(m))\n",
    "# https://docs.scipy.org/doc/numpy/reference/generated/numpy.linalg.lstsq.html\n",
    "x = np.linalg.lstsq(A, B)\n",
    "g = x[0][0]\n",
    "d = x[0][1]\n",
    "#d = 3 * x[0][1]\n",
    "g,d\n",
    "#x\n",
    "\n",
    "a = g + np.true_divide(d*g,(W - d))\n",
    "b = g + np.true_divide(d*(g - H), (W - d))\n",
    "# a = g + d*g/(W - d)\n",
    "# b = g + d*(g - H)/(W - d)\n",
    "g, d, a, b"
   ]
  },
  {
   "cell_type": "code",
   "execution_count": 89,
   "metadata": {
    "collapsed": false
   },
   "outputs": [
    {
     "data": {
      "image/png": "[encoded data removed]",
      "text/plain": [
       "<matplotlib.figure.Figure at 0x7fc3c9d54e10>"
      ]
     },
     "metadata": {},
     "output_type": "display_data"
    }
   ],
   "source": [
    "line_scatter(lines, title='Points representing all detected lines in image', xlabel='abs horizontal projection', ylabel='abs vertical projection')"
   ]
  },
  {
   "cell_type": "code",
   "execution_count": 123,
   "metadata": {
    "collapsed": false
   },
   "outputs": [
    {
     "data": {
      "image/png": "[encoded data removed]",
      "text/plain": [
       "<matplotlib.figure.Figure at 0x7fa5b8224190>"
      ]
     },
     "metadata": {},
     "output_type": "display_data"
    }
   ],
   "source": [
    "import math\n",
    "import matplotlib.pyplot as plt\n",
    "\n",
    "from skimage.io import imread, imsave\n",
    "from skimage import transform as tf\n",
    "\n",
    "src = np.array([[0, 0], [0, H], [W, H], [W, 0]])\n",
    "dst = np.array([[0, a], [0, b], [W, H], [W, 0]])\n",
    "#dst = np.array([[0, b], [0, a], [W, H], [W, 0]])\n",
    "\n",
    "tform3 = tf.ProjectiveTransform()\n",
    "tform3.estimate(src, dst)\n",
    "warped = tf.warp(img, tform3, output_shape=img.shape)\n",
    "imsave(pathname+'/warped.jpg',warped)\n",
    "cv2.imshow('warped',warped)\n",
    "\n",
    "fig, figAx = plt.subplots(nrows=2, figsize=(8, 3))\n",
    "\n",
    "figAx[0].imshow(gray, cmap=plt.cm.gray)\n",
    "figAx[0].plot(dst[:, 0], dst[:, 1], '.r')\n",
    "#figAx[1].imshow(warped, cmap=plt.cm.gray)\n",
    "figAx[1].imshow(warped)\n",
    "\n",
    "for ax in figAx:\n",
    "    ax.axis('off')\n",
    "    \n",
    "cv2.waitKey(0) \n",
    "cv2.destroyAllWindows()"
   ]
  },
  {
   "cell_type": "code",
   "execution_count": null,
   "metadata": {
    "collapsed": false
   },
   "outputs": [],
   "source": []
  },
  {
   "cell_type": "code",
   "execution_count": null,
   "metadata": {
    "collapsed": false
   },
   "outputs": [],
   "source": [
    "# attempt using Sobel derivates did not work...\n",
    "# ksize = 3\n",
    "# # dx = cv2.Sobel(gray, cv2.CV_16S, 1, 0, ksize)\n",
    "# # dy = cv2.Sobel(gray, cv2.CV_16S, 0, 1, ksize)\n",
    "# dx = cv2.Scharr(gray, cv2.CV_16S, 1, 0)\n",
    "# dy = cv2.Scharr(gray, cv2.CV_16S, 0, 1)\n",
    "# with np.errstate(divide='ignore', invalid='ignore'):\n",
    "#     m = np.true_divide(dy,dx)\n",
    "# m[ dx == 0 ] = 0\n",
    "# # # http://opencv-python-tutroals.readthedocs.io/en/latest/py_tutorials/py_feature2d/py_features_harris/py_features_harris.html\n",
    "# # k = 0.04\n",
    "# # eig = cv2.cornerEigenValsAndVecs(gray, 5, 3)\n",
    "# # eigVal0 = eig[:,:,0]\n",
    "# # eigVal1 = eig[:,:,1]\n",
    "# # R = np.multiply(eigVal0,eigVal1) - k*(eigVal0 + eigVal1)**2\n",
    "# # isEdge = R < 0\n",
    "\n",
    "# # # discard non-edges\n",
    "# # m[np.logical_not(isEdge)] = 0\n",
    "# # cv2.imshow('posSlope', np.multiply(m, m > 0))\n",
    "# # cv2.imshow('negSlope', -1*np.multiply(m, m < 0))\n",
    "# # cv2.waitKey(0) \n",
    "# # cv2.destroyAllWindows()\n",
    "\n",
    "# hwIdx = np.unravel_index(range(0,H*W),(H, W))\n",
    "# hIdx = hwIdx[0]\n",
    "# wIdx = hwIdx[1]\n",
    "# m = np.reshape(m,[-1,])\n",
    "\n",
    "\n",
    "# #isEdge = np.reshape(isEdge,[-1,])\n",
    "\n",
    "\n",
    "# # # bl2tr = -\n",
    "# # # limit slope values\n",
    "# # m_thresh = 0.5*h/w\n",
    "# # selectEdge = np.logical_and(isEdge, np.absolute(m) < m_thresh)\n",
    "# # # only consider selected edges\n",
    "# # hIdx = hIdx[selectEdge]\n",
    "# # wIdx = wIdx[selectEdge]\n",
    "# # m = m[selectEdge]\n",
    "# # a = np.column_stack( ( np.ones((m.shape[0],)), m ) )\n",
    "# # b = hIdx - m*wIdx\n",
    "# # x = np.linalg.lstsq(a,b)\n",
    "# # x\n",
    "\n",
    "# # bl2tr = +\n",
    "# # limit slope values\n",
    "# m_thresh = 0.8*H/W\n",
    "# #canny =np.reshape(canny,[-1,])\n",
    "# #selectEdge = np.logical_and(np.logical_and(isEdge, np.absolute(m) < m_thresh), canny > 0)\n",
    "\n",
    "# selectEdge = m != 0\n",
    "# #selectEdge = isEdge\n",
    "\n",
    "# # only consider selected edges\n",
    "# hIdx = hIdx[selectEdge]\n",
    "# wIdx = wIdx[selectEdge]\n",
    "# m = m[selectEdge]\n",
    "# # Solve Ax = B\n",
    "# A = np.column_stack( ( np.ones((m.shape[0],)), -m ) )\n",
    "# B = hIdx + m*wIdx\n",
    "# x = np.linalg.lstsq(A, B)\n",
    "# g = x[0][0]\n",
    "# # Why x[0][1] is negative?!?\n",
    "# # And why is Sobel output negated?? ... related?\n",
    "# d = x[0][1]\n",
    "# a = g - d*g/(d + W)\n",
    "# b = d*(H - g)/(d + W) + g\n",
    "# a,b,g,d"
   ]
  },
  {
   "cell_type": "code",
   "execution_count": null,
   "metadata": {
    "collapsed": false
   },
   "outputs": [],
   "source": []
  },
  {
   "cell_type": "code",
   "execution_count": null,
   "metadata": {
    "collapsed": true
   },
   "outputs": [],
   "source": [
    "# unused stuff\n",
    "#\n",
    "# k = 0.04\n",
    "# eig = cv2.cornerEigenValsAndVecs(gray, 5, 3)\n",
    "# eigVal0 = eig[:,:,0]\n",
    "# eigVal1 = eig[:,:,1]\n",
    "# x0 = eig[:,:,2]\n",
    "# y0 = eig[:,:,3]\n",
    "# x1 = eig[:,:,4]\n",
    "# y1 = eig[:,:,5]\n",
    "# # http://opencv-python-tutroals.readthedocs.io/en/latest/py_tutorials/py_feature2d/py_features_harris/py_features_harris.html\n",
    "# R = np.multiply(eigVal0,eigVal1) - k*(eigVal0 + eigVal1)**2\n",
    "# isEdge = R < 0\n",
    "# with np.errstate(divide='ignore', invalid='ignore'):\n",
    "#     m0 = np.true_divide(y0,x0)\n",
    "# m0[ x0 == 0 ] = 0\n",
    "# with np.errstate(divide='ignore', invalid='ignore'):\n",
    "#     m1 = np.true_divide(y1,x1)\n",
    "# m1[ x1 == 0 ] = 0\n",
    "# m = np.multiply(eigVal0 > eigVal1, m0) + np.multiply(eigVal1 > eigVal0, m1)\n",
    "# hwIdx = np.unravel_index(range(0,h*w),(h,w))\n",
    "# hIdx = hwIdx[0]\n",
    "# wIdx = hwIdx[1]\n",
    "# m = np.reshape(m,[-1,])\n",
    "# isEdge = np.reshape(isEdge,[-1,])\n",
    "# # only consider edges\n",
    "# hIdx = hIdx[isEdge]\n",
    "# wIdx = wIdx[isEdge]\n",
    "# m = m[isEdge]\n",
    "\n",
    "\n",
    "# # edgeSlopes = np.multiply(isEdge,m)\n",
    "# # posSlopeEdge = np.multiply(edgeSlopes, edgeSlopes > 0)\n",
    "# # negSlopeEdge = np.multiply(edgeSlopes, edgeSlopes < 0)\n",
    "# # cv2.imshow('posSlope', posSlopeEdge)\n",
    "# # cv2.imshow('negSlope', -1*negSlopeEdge)\n",
    "# # cv2.waitKey(0) \n",
    "# # cv2.destroyAllWindows()\n"
   ]
  },
  {
   "cell_type": "code",
   "execution_count": null,
   "metadata": {
    "collapsed": true
   },
   "outputs": [],
   "source": [
    "m1d = np.absolute(np.true_divide(lines[:,3] - lines[:,1], lines[:,2] - lines[:,0])).T\n",
    "plt.hist(m1d, bins=np.linspace(0,2,10))\n",
    "plt.show()"
   ]
  },
  {
   "cell_type": "code",
   "execution_count": null,
   "metadata": {
    "collapsed": true
   },
   "outputs": [],
   "source": [
    "import sklearn\n",
    "print('The scikit-learn version is {}.'.format(sklearn.__version__))"
   ]
  },
  {
   "cell_type": "code",
   "execution_count": null,
   "metadata": {
    "collapsed": true
   },
   "outputs": [],
   "source": []
  },
  {
   "cell_type": "code",
   "execution_count": 86,
   "metadata": {
    "code_folding": [
     0
    ],
    "collapsed": false
   },
   "outputs": [
    {
     "name": "stdout",
     "output_type": "stream",
     "text": [
      "(19, 4)\n"
     ]
    }
   ],
   "source": [
    "# cv2.CV_PI = 3.1415926535897932384626433832795\n",
    "# thrs1 = 50\n",
    "# thrs2 = 200\n",
    "# canny = cv2.Canny(gray, thrs1, thrs2, apertureSize=3)\n",
    "# #lines = cv2.HoughLinesP(canny,1, cv2.CV_PI/180, 80, 30, 10)[:,0,:]\n",
    "# # args: image, rho, theta, threshold, lines, minLineLength, maxLineGap\n",
    "# rho = 1\n",
    "# theta = cv2.CV_PI/180\n",
    "# threshold = 200\n",
    "# min_line_len = 100\n",
    "# max_line_gap = 100\n",
    "# lines = cv2.HoughLinesP(canny, rho, theta, threshold, np.array([]), min_line_len, max_line_gap)[:,0,:]\n",
    "# color_dst = cv2.cvtColor(canny,cv2.COLOR_GRAY2BGR)\n",
    "# for i in range(0,lines.shape[0]):\n",
    "#     cv2.line(color_dst,(lines[i][0],lines[i][1]), (lines[i][2],lines[i][3]),(0,0,255),3,8 )\n",
    "# print lines.shape\n",
    "# imshow(color_dst)"
   ]
  }
 ],
 "metadata": {
  "anaconda-cloud": {},
  "kernelspec": {
   "display_name": "Python [conda root]",
   "language": "python",
   "name": "conda-root-py"
  },
  "language_info": {
   "codemirror_mode": {
    "name": "ipython",
    "version": 2
   },
   "file_extension": ".py",
   "mimetype": "text/x-python",
   "name": "python",
   "nbconvert_exporter": "python",
   "pygments_lexer": "ipython2",
   "version": "2.7.12"
  },
  "toc": {
   "colors": {
    "hover_highlight": "#DAA520",
    "running_highlight": "#FF0000",
    "selected_highlight": "#FFD700"
   },
   "moveMenuLeft": true,
   "nav_menu": {
    "height": "12px",
    "width": "252px"
   },
   "navigate_menu": true,
   "number_sections": true,
   "sideBar": true,
   "threshold": 4,
   "toc_cell": false,
   "toc_section_display": "block",
   "toc_window_display": false
  }
 },
 "nbformat": 4,
 "nbformat_minor": 1
}
